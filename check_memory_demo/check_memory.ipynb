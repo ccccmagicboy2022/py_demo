{
 "cells": [
  {
   "cell_type": "markdown",
   "id": "615d0de8-9848-4295-87a5-a9c562ae4e16",
   "metadata": {
    "tags": []
   },
   "source": [
    "# 功能描述\n",
    "- 检查内存占用"
   ]
  },
  {
   "cell_type": "code",
   "execution_count": 53,
   "id": "239832fe-e001-4f46-8608-67840c8a189c",
   "metadata": {},
   "outputs": [],
   "source": [
    "from datetime import datetime\n",
    "import os\n",
    "from os import path"
   ]
  },
  {
   "cell_type": "code",
   "execution_count": 54,
   "id": "49a09854-5605-4fbc-a662-982407c8d007",
   "metadata": {},
   "outputs": [],
   "source": [
    "memalloc = \"alloc\""
   ]
  },
  {
   "cell_type": "code",
   "execution_count": 55,
   "id": "3a3ea8dd-d1dd-4424-bfce-2ffaf8b078c4",
   "metadata": {},
   "outputs": [],
   "source": [
    "def check_log(file_name):\n",
    "    mem_num_set = []\n",
    "    with open(file_name, 'r') as f:\n",
    "        index = 0\n",
    "        for line in f:\n",
    "            index += 1\n",
    "            temp_result1 = line.find(memalloc)\n",
    "            if temp_result1 >= 0:\n",
    "                pos1 = line.find(' ')\n",
    "                pos2 = line.find('\\n')\n",
    "                mem_num = line[pos1:pos2].strip()\n",
    "                mem_num_set.append(int(mem_num))\n",
    "    #print(mem_num_set)\n",
    "    print(max(mem_num_set))"
   ]
  },
  {
   "cell_type": "code",
   "execution_count": 57,
   "id": "cd586480-0079-491c-ad24-32f9ecdbeaca",
   "metadata": {},
   "outputs": [
    {
     "name": "stdout",
     "output_type": "stream",
     "text": [
      "81\n"
     ]
    }
   ],
   "source": [
    "check_log('./test7.log')"
   ]
  },
  {
   "cell_type": "code",
   "execution_count": null,
   "id": "10521cb7-d085-49fe-b2b1-5e6bf3fc98bd",
   "metadata": {},
   "outputs": [],
   "source": []
  },
  {
   "cell_type": "code",
   "execution_count": null,
   "id": "cd373de8-6344-4bec-8d33-2b15fac4e916",
   "metadata": {},
   "outputs": [],
   "source": []
  }
 ],
 "metadata": {
  "kernelspec": {
   "display_name": "Python 3 (ipykernel)",
   "language": "python",
   "name": "python3"
  },
  "language_info": {
   "codemirror_mode": {
    "name": "ipython",
    "version": 3
   },
   "file_extension": ".py",
   "mimetype": "text/x-python",
   "name": "python",
   "nbconvert_exporter": "python",
   "pygments_lexer": "ipython3",
   "version": "3.9.1"
  }
 },
 "nbformat": 4,
 "nbformat_minor": 5
}
