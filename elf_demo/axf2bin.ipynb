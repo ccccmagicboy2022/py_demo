{
 "cells": [
  {
   "cell_type": "code",
   "execution_count": 4,
   "id": "68c04060-1b21-460f-891d-2a15f14b9e72",
   "metadata": {},
   "outputs": [],
   "source": [
    "AXF_FILE_NAME = 'ramcode.axf'\n",
    "BIN_FILE_NAME = 'output.bin'\n",
    "byte_list = []"
   ]
  },
  {
   "cell_type": "code",
   "execution_count": 5,
   "id": "91af2ae7-d64c-4261-aa9e-ab8753f5bdea",
   "metadata": {},
   "outputs": [],
   "source": [
    "with open(AXF_FILE_NAME, \"rb\") as file0:\n",
    "    byte_list = list(file0.read())\n",
    "    "
   ]
  },
  {
   "cell_type": "code",
   "execution_count": 6,
   "id": "5cc7cca6-a1f7-44f4-9c70-c21dc5634363",
   "metadata": {},
   "outputs": [],
   "source": [
    "temp_b = bytes(byte_list[0x1C:0x20])"
   ]
  },
  {
   "cell_type": "code",
   "execution_count": 7,
   "id": "7943dbb2-47b0-47e4-b3ec-2c48ae75f6a1",
   "metadata": {},
   "outputs": [
    {
     "name": "stdout",
     "output_type": "stream",
     "text": [
      "214788\n"
     ]
    }
   ],
   "source": [
    "program_header = int.from_bytes(temp_b, byteorder='little', signed=False)\n",
    "print(program_header)"
   ]
  },
  {
   "cell_type": "code",
   "execution_count": 8,
   "id": "e39d3160-3cff-47ce-a32b-d8b60529034d",
   "metadata": {},
   "outputs": [],
   "source": [
    "temp_b = bytes(byte_list[program_header + 0x4:program_header + 0x8])"
   ]
  },
  {
   "cell_type": "code",
   "execution_count": 9,
   "id": "7dbb16b3-36e5-4537-8286-ca3e6892dfa2",
   "metadata": {},
   "outputs": [
    {
     "name": "stdout",
     "output_type": "stream",
     "text": [
      "56\n"
     ]
    }
   ],
   "source": [
    "bin_begin = int.from_bytes(temp_b, byteorder='little', signed=False)\n",
    "print(bin_begin)"
   ]
  },
  {
   "cell_type": "code",
   "execution_count": 14,
   "id": "9c0ade05-ba03-4985-99ee-2b5e3dd71676",
   "metadata": {},
   "outputs": [],
   "source": [
    "temp_b = bytes(byte_list[program_header + 0x8:program_header + 0xC])"
   ]
  },
  {
   "cell_type": "code",
   "execution_count": 16,
   "id": "80810d40-539d-45f5-a8c8-b6bca496781b",
   "metadata": {},
   "outputs": [
    {
     "name": "stdout",
     "output_type": "stream",
     "text": [
      "0x1fff8000\n"
     ]
    }
   ],
   "source": [
    "vaddr = int.from_bytes(temp_b, byteorder='little', signed=False)\n",
    "print(hex(vaddr))"
   ]
  },
  {
   "cell_type": "code",
   "execution_count": 10,
   "id": "c8e17d6d-45c8-439e-91d1-5a523a0525ae",
   "metadata": {},
   "outputs": [],
   "source": [
    "temp_b = bytes(byte_list[program_header + 0x10:program_header + 0x14])"
   ]
  },
  {
   "cell_type": "code",
   "execution_count": 11,
   "id": "deec6f9f-d698-40c3-8202-967e8c6e2189",
   "metadata": {},
   "outputs": [
    {
     "name": "stdout",
     "output_type": "stream",
     "text": [
      "22112\n"
     ]
    }
   ],
   "source": [
    "bin_size = int.from_bytes(temp_b, byteorder='little', signed=False)\n",
    "print(bin_size)"
   ]
  },
  {
   "cell_type": "code",
   "execution_count": 12,
   "id": "225d104c-e475-4edc-afba-38f8545e38a8",
   "metadata": {},
   "outputs": [],
   "source": [
    "with open(BIN_FILE_NAME,\"wb+\") as file1:\n",
    "    file1.write(bytearray(byte_list[bin_begin:bin_begin+bin_size]))"
   ]
  },
  {
   "cell_type": "markdown",
   "id": "9e711830-3665-4bb6-9930-88d71d2ea12a",
   "metadata": {},
   "source": [
    "- sh_addr -->若section将载入内存, section的地址\n",
    "- sh_offset -->Section的raw数据的文件偏移\n",
    "- sh_size -->Section大小"
   ]
  },
  {
   "cell_type": "code",
   "execution_count": 13,
   "id": "265b8b6c-b096-4668-912c-3c3be03d38d8",
   "metadata": {},
   "outputs": [
    {
     "name": "stdout",
     "output_type": "stream",
     "text": [
      "ELF Header:\n",
      "e_ident:b'\\x7fELF\\x01\\x01\\x01\\x00\\x00\\x00\\x00\\x00\\x00\\x00\\x00\\x00'\n",
      "e_type:2\n",
      "e_machine:40\n",
      "e_version:1\n",
      "e_entry:536838785\n",
      "e_phoff:214788\n",
      "e_shoff:214820\n",
      "e_flags:83886082\n",
      "e_ehsize:52\n",
      "e_phentsize:32\n",
      "e_phnum:1\n",
      "e_shentsize:40\n",
      "e_shnum:15\n",
      "e_shstrndx:14\n",
      "\n",
      "\n",
      "Section Header Table\n",
      "sh_name_idx:0\n",
      "sh_type:0\n",
      "sh_flags:0\n",
      "sh_addr:0\n",
      "sh_offset:0\n",
      "sh_size:0\n",
      "sh_link:0\n",
      "sh_info:0\n",
      "sh_addralign:0\n",
      "sh_entsize:0\n",
      "sh_name:b''\n",
      "\n",
      "\n",
      "sh_name_idx:1\n",
      "sh_type:1\n",
      "sh_flags:6\n",
      "sh_addr:536838144\n",
      "sh_offset:56\n",
      "sh_size:22084\n",
      "sh_link:0\n",
      "sh_info:0\n",
      "sh_addralign:8\n",
      "sh_entsize:0\n",
      "sh_name:b'ER_IROM1'\n",
      "\n",
      "\n",
      "sh_name_idx:10\n",
      "sh_type:1\n",
      "sh_flags:3\n",
      "sh_addr:536870912\n",
      "sh_offset:22144\n",
      "sh_size:24\n",
      "sh_link:0\n",
      "sh_info:0\n",
      "sh_addralign:8\n",
      "sh_entsize:0\n",
      "sh_name:b'RW_IRAM1'\n",
      "\n",
      "\n",
      "sh_name_idx:10\n",
      "sh_type:8\n",
      "sh_flags:3\n",
      "sh_addr:536870936\n",
      "sh_offset:22168\n",
      "sh_size:25096\n",
      "sh_link:0\n",
      "sh_info:0\n",
      "sh_addralign:8\n",
      "sh_entsize:0\n",
      "sh_name:b'RW_IRAM1'\n",
      "\n",
      "\n",
      "sh_name_idx:19\n",
      "sh_type:1\n",
      "sh_flags:0\n",
      "sh_addr:0\n",
      "sh_offset:22168\n",
      "sh_size:1448\n",
      "sh_link:0\n",
      "sh_info:0\n",
      "sh_addralign:1\n",
      "sh_entsize:0\n",
      "sh_name:b'.debug_abbrev'\n",
      "\n",
      "\n",
      "sh_name_idx:33\n",
      "sh_type:1\n",
      "sh_flags:0\n",
      "sh_addr:0\n",
      "sh_offset:23616\n",
      "sh_size:5792\n",
      "sh_link:0\n",
      "sh_info:0\n",
      "sh_addralign:1\n",
      "sh_entsize:0\n",
      "sh_name:b'.debug_frame'\n",
      "\n",
      "\n",
      "sh_name_idx:46\n",
      "sh_type:1\n",
      "sh_flags:0\n",
      "sh_addr:0\n",
      "sh_offset:29408\n",
      "sh_size:104219\n",
      "sh_link:0\n",
      "sh_info:0\n",
      "sh_addralign:1\n",
      "sh_entsize:0\n",
      "sh_name:b'.debug_info'\n",
      "\n",
      "\n",
      "sh_name_idx:58\n",
      "sh_type:1\n",
      "sh_flags:0\n",
      "sh_addr:0\n",
      "sh_offset:133627\n",
      "sh_size:15764\n",
      "sh_link:0\n",
      "sh_info:0\n",
      "sh_addralign:1\n",
      "sh_entsize:0\n",
      "sh_name:b'.debug_line'\n",
      "\n",
      "\n",
      "sh_name_idx:70\n",
      "sh_type:1\n",
      "sh_flags:0\n",
      "sh_addr:0\n",
      "sh_offset:149391\n",
      "sh_size:52711\n",
      "sh_link:0\n",
      "sh_info:0\n",
      "sh_addralign:1\n",
      "sh_entsize:0\n",
      "sh_name:b'.debug_str'\n",
      "\n",
      "\n",
      "sh_name_idx:81\n",
      "sh_type:1\n",
      "sh_flags:0\n",
      "sh_addr:0\n",
      "sh_offset:202102\n",
      "sh_size:1432\n",
      "sh_link:0\n",
      "sh_info:0\n",
      "sh_addralign:1\n",
      "sh_entsize:0\n",
      "sh_name:b'.debug_ranges'\n",
      "\n",
      "\n",
      "sh_name_idx:95\n",
      "sh_type:2\n",
      "sh_flags:0\n",
      "sh_addr:0\n",
      "sh_offset:203536\n",
      "sh_size:5328\n",
      "sh_link:11\n",
      "sh_info:115\n",
      "sh_addralign:4\n",
      "sh_entsize:16\n",
      "sh_name:b'.symtab'\n",
      "\n",
      "\n",
      "sh_name_idx:103\n",
      "sh_type:3\n",
      "sh_flags:0\n",
      "sh_addr:0\n",
      "sh_offset:208864\n",
      "sh_size:4508\n",
      "sh_link:0\n",
      "sh_info:0\n",
      "sh_addralign:1\n",
      "sh_entsize:0\n",
      "sh_name:b'.strtab'\n",
      "\n",
      "\n",
      "sh_name_idx:111\n",
      "sh_type:7\n",
      "sh_flags:0\n",
      "sh_addr:0\n",
      "sh_offset:213372\n",
      "sh_size:28\n",
      "sh_link:0\n",
      "sh_info:0\n",
      "sh_addralign:4\n",
      "sh_entsize:0\n",
      "sh_name:b'.note'\n",
      "\n",
      "\n",
      "sh_name_idx:117\n",
      "sh_type:1\n",
      "sh_flags:0\n",
      "sh_addr:0\n",
      "sh_offset:213400\n",
      "sh_size:1252\n",
      "sh_link:0\n",
      "sh_info:0\n",
      "sh_addralign:1\n",
      "sh_entsize:0\n",
      "sh_name:b'.comment'\n",
      "\n",
      "\n",
      "sh_name_idx:126\n",
      "sh_type:3\n",
      "sh_flags:0\n",
      "sh_addr:0\n",
      "sh_offset:214652\n",
      "sh_size:136\n",
      "sh_link:0\n",
      "sh_info:0\n",
      "sh_addralign:1\n",
      "sh_entsize:0\n",
      "sh_name:b'.shstrtab'\n",
      "\n",
      "\n"
     ]
    }
   ],
   "source": [
    "from elf_header import *\n",
    "with open(AXF_FILE_NAME, \"rb\") as file2:    \n",
    "    hdr = readElfHeader(file2)\n",
    "    printElfHeader(hdr)\n",
    "    shdr = readShHeaders(file2, hdr) \n",
    "    printShHeaders(shdr)"
   ]
  },
  {
   "cell_type": "code",
   "execution_count": 17,
   "id": "a11cbf40-113d-4033-9770-a936b62e75cc",
   "metadata": {},
   "outputs": [],
   "source": [
    "with open('symtab.bin',\"wb+\") as file3:\n",
    "    file3.write(bytearray(byte_list[17008:17008+3776]))"
   ]
  },
  {
   "cell_type": "code",
   "execution_count": 18,
   "id": "b68e3857-ee54-4e84-a468-78855ca04cd0",
   "metadata": {},
   "outputs": [],
   "source": [
    "with open('shstrtab.bin',\"wb+\") as file4:\n",
    "    file4.write(bytearray(byte_list[25460:25460+136]))"
   ]
  },
  {
   "cell_type": "code",
   "execution_count": 19,
   "id": "ddbf33cf-33d2-4bc0-99ad-d2799eb9a957",
   "metadata": {},
   "outputs": [],
   "source": [
    "with open('strtab.bin',\"wb+\") as file5:\n",
    "    file5.write(bytearray(byte_list[20784:20784+3400]))"
   ]
  },
  {
   "cell_type": "code",
   "execution_count": null,
   "id": "85514819-4cb3-408f-a5cf-0472a28d6a74",
   "metadata": {},
   "outputs": [],
   "source": []
  }
 ],
 "metadata": {
  "kernelspec": {
   "display_name": "Python 3 (ipykernel)",
   "language": "python",
   "name": "python3"
  },
  "language_info": {
   "codemirror_mode": {
    "name": "ipython",
    "version": 3
   },
   "file_extension": ".py",
   "mimetype": "text/x-python",
   "name": "python",
   "nbconvert_exporter": "python",
   "pygments_lexer": "ipython3",
   "version": "3.9.1"
  }
 },
 "nbformat": 4,
 "nbformat_minor": 5
}
