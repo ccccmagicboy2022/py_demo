{
 "cells": [
  {
   "cell_type": "code",
   "execution_count": 195,
   "id": "706832c9-ccdd-4bbb-b2e7-42534546cb1b",
   "metadata": {},
   "outputs": [],
   "source": [
    "from pptx import Presentation\n",
    "from pptx.enum.shapes import MSO_SHAPE_TYPE\n",
    "from pptx.util import Inches,Pt\n",
    "import time"
   ]
  },
  {
   "cell_type": "code",
   "execution_count": 196,
   "id": "a3e42511-d011-44f8-bc7c-0d47669e26e2",
   "metadata": {},
   "outputs": [],
   "source": [
    "path = 'report.pptx'"
   ]
  },
  {
   "cell_type": "code",
   "execution_count": 197,
   "id": "2691d14e-a7ee-4fbe-a49b-5c4cbf7305dc",
   "metadata": {},
   "outputs": [
    {
     "name": "stdout",
     "output_type": "stream",
     "text": [
      "2022\n"
     ]
    }
   ],
   "source": [
    "t = time.localtime(time.time())\n",
    "print(t.tm_year)"
   ]
  },
  {
   "cell_type": "code",
   "execution_count": 198,
   "id": "54ed7a06-fa2d-4d64-96f5-9a40a4b39d12",
   "metadata": {},
   "outputs": [],
   "source": [
    "prs = Presentation(path)"
   ]
  },
  {
   "cell_type": "code",
   "execution_count": 199,
   "id": "184a6916-fba1-48c4-a1c5-b4c65ae9a7a7",
   "metadata": {},
   "outputs": [
    {
     "name": "stdout",
     "output_type": "stream",
     "text": [
      "幻灯片: 1-<pptx.slide.Slide object at 0x09874610>\n",
      "group shape: 美好生活，用芯感知\n",
      "group shape: GENERAL YEAR END SUMMARY\n",
      "group shape: 2021\n",
      "年终总结\n",
      "group shape: 崔巍 2021\n",
      "--------------------\n",
      "幻灯片: 2-<pptx.slide.Slide object at 0x0987E388>\n",
      "group shape: CONTENTS\n",
      "group shape: 目录\n",
      "shape: 01\n",
      "shape: 工作概述\n",
      "shape: 02\n",
      "shape: 工作描述\n",
      "shape: 总结不足\n",
      "shape: 规划展望\n",
      "shape: 04\n",
      "shape: 03\n",
      "--------------------\n",
      "幻灯片: 3-<pptx.slide.Slide object at 0x098745E0>\n",
      "shape: 专注于微波雷达\n",
      "芯片算法及方案\n",
      "shape: 工作概述\n",
      "shape: WORK SUMMARY\n",
      "shape: 01\n",
      "--------------------\n",
      "幻灯片: 4-<pptx.slide.Slide object at 0x0987BD48>\n",
      "shape: 工作概述\n",
      "shape: \n",
      "test1\n",
      "test1\n",
      "test1\n",
      "test2\n",
      "--------------------\n",
      "幻灯片: 5-<pptx.slide.Slide object at 0x09889F40>\n",
      "shape: 专注于微波雷达\n",
      "芯片算法及方案\n",
      "shape: 工作详情\n",
      "shape: WORK DETAILS\n",
      "shape: 02\n",
      "--------------------\n",
      "幻灯片: 6-<pptx.slide.Slide object at 0x0987B9E8>\n",
      "shape: 工作详情\n",
      "shape: bbbb\n",
      "--------------------\n",
      "幻灯片: 7-<pptx.slide.Slide object at 0x098B1AA8>\n",
      "shape: 专注于微波雷达\n",
      "芯片算法及方案\n",
      "shape: 总结不足\n",
      "shape: WORKING EXPERIENCE\n",
      "shape: 03\n",
      "--------------------\n",
      "幻灯片: 8-<pptx.slide.Slide object at 0x098B1F28>\n",
      "shape: 总结不足\n",
      "shape: cccc\n",
      "--------------------\n",
      "幻灯片: 9-<pptx.slide.Slide object at 0x098B1EB0>\n",
      "shape: 专注于微波雷达\n",
      "芯片算法及方案\n",
      "shape: 规划展望\n",
      "shape: PLANNING OUTLOOK\n",
      "shape: 04\n",
      "--------------------\n",
      "幻灯片: 10-<pptx.slide.Slide object at 0x09874430>\n",
      "shape: 规划展望\n",
      "shape: dddd\n",
      "--------------------\n",
      "幻灯片: 11-<pptx.slide.Slide object at 0x098B1BE0>\n",
      "group shape: 美好生活  用芯感知\n"
     ]
    },
    {
     "ename": "NameError",
     "evalue": "name 'PP_ALIGN' is not defined",
     "output_type": "error",
     "traceback": [
      "\u001b[1;31m---------------------------------------------------------------------------\u001b[0m",
      "\u001b[1;31mNameError\u001b[0m                                 Traceback (most recent call last)",
      "\u001b[1;32m~\\AppData\\Local\\Temp/ipykernel_11156/3349257554.py\u001b[0m in \u001b[0;36m<module>\u001b[1;34m\u001b[0m\n\u001b[0;32m     20\u001b[0m                     \u001b[1;32mif\u001b[0m \u001b[0mshape\u001b[0m\u001b[1;33m.\u001b[0m\u001b[0mtext\u001b[0m\u001b[1;33m.\u001b[0m\u001b[0mstrip\u001b[0m\u001b[1;33m(\u001b[0m\u001b[1;33m)\u001b[0m \u001b[1;33m==\u001b[0m \u001b[1;34m'<reporter_name>'\u001b[0m\u001b[1;33m:\u001b[0m\u001b[1;33m\u001b[0m\u001b[1;33m\u001b[0m\u001b[0m\n\u001b[0;32m     21\u001b[0m                         \u001b[0mshape\u001b[0m\u001b[1;33m.\u001b[0m\u001b[0mtext_frame\u001b[0m\u001b[1;33m.\u001b[0m\u001b[0mtext\u001b[0m \u001b[1;33m=\u001b[0m \u001b[1;34m'崔巍'\u001b[0m\u001b[1;33m\u001b[0m\u001b[1;33m\u001b[0m\u001b[0m\n\u001b[1;32m---> 22\u001b[1;33m                         \u001b[0mshape\u001b[0m\u001b[1;33m.\u001b[0m\u001b[0malignment\u001b[0m \u001b[1;33m=\u001b[0m \u001b[0mPP_ALIGN\u001b[0m\u001b[1;33m.\u001b[0m\u001b[0mCENTER\u001b[0m\u001b[1;33m\u001b[0m\u001b[1;33m\u001b[0m\u001b[0m\n\u001b[0m\u001b[0;32m     23\u001b[0m                     \u001b[0mprint\u001b[0m\u001b[1;33m(\u001b[0m\u001b[1;34m'group shape: '\u001b[0m \u001b[1;33m+\u001b[0m \u001b[0mshape\u001b[0m\u001b[1;33m.\u001b[0m\u001b[0mtext\u001b[0m\u001b[1;33m)\u001b[0m\u001b[1;33m\u001b[0m\u001b[1;33m\u001b[0m\u001b[0m\n\u001b[0;32m     24\u001b[0m \u001b[1;33m\u001b[0m\u001b[0m\n",
      "\u001b[1;31mNameError\u001b[0m: name 'PP_ALIGN' is not defined"
     ]
    }
   ],
   "source": [
    "i=0\n",
    "for slide in prs.slides:\n",
    "    i = i + 1\n",
    "    print(f'幻灯片: {i}-{slide}')\n",
    "    group_shapes = [\n",
    "        shp for shp in slide.shapes\n",
    "        if shp.shape_type == MSO_SHAPE_TYPE.GROUP\n",
    "    ]\n",
    "    \n",
    "    for group_shape in group_shapes:\n",
    "        for shape in group_shape.shapes:\n",
    "            if shape.has_text_frame:\n",
    "                if shape.text.strip() != '':\n",
    "                    if shape.text.strip() == '<title_en>':\n",
    "                        shape.text_frame.text = 'GENERAL YEAR END SUMMARY'\n",
    "                    if shape.text.strip() == '<year_and_title>':\n",
    "                        shape.text_frame.text = '2021\\n年终总结'\n",
    "                    if shape.text.strip() == '<name_and_date>':\n",
    "                        shape.text_frame.text = '崔巍 ' + str(t.tm_year - 1)\n",
    "                    if shape.text.strip() == '<reporter_name>':\n",
    "                        shape.text_frame.text = '崔巍'\n",
    "                        shape.alignment = PP_ALIGN.CENTER\n",
    "                    print('group shape: ' + shape.text)\n",
    "    \n",
    "    for shape in slide.shapes:\n",
    "        if shape.shape_type != MSO_SHAPE_TYPE.GROUP:\n",
    "            if shape.has_text_frame:\n",
    "                if shape.text.strip() != '':\n",
    "                    if shape.text.strip() == '<c0_title>':\n",
    "                        shape.text = '工作概述'\n",
    "                    if shape.text.strip() == '<c0>':\n",
    "                        shape.text = ''\n",
    "                        p = shape.text_frame.add_paragraph()\n",
    "                        p.text = 'test1'\n",
    "                        p.font.bold=True\n",
    "                        p.font.italic=True\n",
    "                        p.font.size=Pt(15)\n",
    "                        p.font.underline=True\n",
    "                        p.level = 1\n",
    "                        p = shape.text_frame.add_paragraph()\n",
    "                        p.text = 'test1'\n",
    "                        p.level = 1\n",
    "                        p = shape.text_frame.add_paragraph()\n",
    "                        p.text = 'test1'\n",
    "                        p.level = 1\n",
    "                        p = shape.text_frame.add_paragraph()\n",
    "                        p.text = 'test2'\n",
    "                        p.level = 2\n",
    "                    if shape.text.strip() == '<c1_title>':\n",
    "                        shape.text = '工作详情'\n",
    "                    if shape.text.strip() == '<c1>':\n",
    "                        shape.text = 'bbbb'\n",
    "                    if shape.text.strip() == '<c2_title>':\n",
    "                        shape.text = '总结不足'\n",
    "                    if shape.text.strip() == '<c2>':\n",
    "                        shape.text = 'cccc'\n",
    "                    if shape.text.strip() == '<c3_title>':\n",
    "                        shape.text = '规划展望'\n",
    "                    if shape.text.strip() == '<c3>':\n",
    "                        shape.text = 'dddd'\n",
    "                    print('shape: ' + shape.text)\n",
    "    print('--------------------')"
   ]
  },
  {
   "cell_type": "code",
   "execution_count": 200,
   "id": "dc749c31-ddfa-4214-944b-87e9dc0368f7",
   "metadata": {},
   "outputs": [],
   "source": [
    "prs.save('report_out.pptx')"
   ]
  },
  {
   "cell_type": "code",
   "execution_count": null,
   "id": "b173bc9f-7008-4b2d-8fb2-feae3373f11b",
   "metadata": {},
   "outputs": [],
   "source": []
  },
  {
   "cell_type": "code",
   "execution_count": null,
   "id": "008fd413-28df-4077-8f12-13368225a721",
   "metadata": {},
   "outputs": [],
   "source": []
  }
 ],
 "metadata": {
  "kernelspec": {
   "display_name": "Python 3 (ipykernel)",
   "language": "python",
   "name": "python3"
  },
  "language_info": {
   "codemirror_mode": {
    "name": "ipython",
    "version": 3
   },
   "file_extension": ".py",
   "mimetype": "text/x-python",
   "name": "python",
   "nbconvert_exporter": "python",
   "pygments_lexer": "ipython3",
   "version": "3.9.1"
  }
 },
 "nbformat": 4,
 "nbformat_minor": 5
}
