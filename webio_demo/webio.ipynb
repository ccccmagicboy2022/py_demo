{
 "cells": [
  {
   "cell_type": "code",
   "execution_count": 1,
   "id": "3d160dfa-c306-4b6a-9b0a-e2828427ef0d",
   "metadata": {},
   "outputs": [],
   "source": [
    "from pywebio.input import input, FLOAT"
   ]
  },
  {
   "cell_type": "code",
   "execution_count": 2,
   "id": "12680bda-39f3-43ac-8b37-2461f8c3d054",
   "metadata": {},
   "outputs": [],
   "source": [
    "from pywebio.output import put_text"
   ]
  },
  {
   "cell_type": "code",
   "execution_count": 7,
   "id": "85dc7866-18ca-4b1e-a75e-5cb679aa0ce6",
   "metadata": {},
   "outputs": [],
   "source": [
    "def bmi():\n",
    "    height = input(\"Input your height(cm)：\", type=FLOAT)\n",
    "    weight = input(\"Input your weight(kg)：\", type=FLOAT)\n",
    "\n",
    "    BMI = weight / (height / 100) ** 2\n",
    "\n",
    "    top_status = [(16, 'Severely underweight'), (18.5, 'Underweight'),\n",
    "                  (25, 'Normal'), (30, 'Overweight'),\n",
    "                  (35, 'Moderately obese'), (float('inf'), 'Severely obese')]\n",
    "\n",
    "    for top, status in top_status:\n",
    "        if BMI <= top:\n",
    "            put_text('Your BMI: %.1f. Category: %s' % (BMI, status))\n",
    "            break\n"
   ]
  },
  {
   "cell_type": "code",
   "execution_count": 8,
   "id": "d0278789-8e95-43c0-a5e4-b211f7b2fbb5",
   "metadata": {},
   "outputs": [],
   "source": [
    "bmi()"
   ]
  },
  {
   "cell_type": "code",
   "execution_count": null,
   "id": "b3cee88b-7d51-4cad-bc54-5b3ff6b0bf04",
   "metadata": {},
   "outputs": [],
   "source": []
  }
 ],
 "metadata": {
  "kernelspec": {
   "display_name": "Python 3 (ipykernel)",
   "language": "python",
   "name": "python3"
  },
  "language_info": {
   "codemirror_mode": {
    "name": "ipython",
    "version": 3
   },
   "file_extension": ".py",
   "mimetype": "text/x-python",
   "name": "python",
   "nbconvert_exporter": "python",
   "pygments_lexer": "ipython3",
   "version": "3.9.1"
  }
 },
 "nbformat": 4,
 "nbformat_minor": 5
}
