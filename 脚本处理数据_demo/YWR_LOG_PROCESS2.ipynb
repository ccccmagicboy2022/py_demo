{
 "cells": [
  {
   "cell_type": "markdown",
   "id": "ee950baf-755d-4141-bfe7-d14798e1f631",
   "metadata": {
    "tags": []
   },
   "source": [
    "# 功能描述\n",
    "- 遍历目录下所有网关LOG文件，锁定所有mc close到mc open间60/61传感器在5s内同时报有人的情况\n",
    "- 去除同一时间点的多次上报\n",
    "- 仅关注6月23日以后"
   ]
  },
  {
   "cell_type": "code",
   "execution_count": 1,
   "id": "3a83ee2f-8c97-4c85-88e4-e4741fe60ed5",
   "metadata": {},
   "outputs": [],
   "source": [
    "from datetime import datetime\n",
    "import os\n",
    "from os import path"
   ]
  },
  {
   "cell_type": "code",
   "execution_count": 2,
   "id": "e7f768d0-5d15-454f-8c7f-0e8646c406fd",
   "metadata": {
    "tags": []
   },
   "outputs": [],
   "source": [
    "class bcolors:\n",
    "    HEADER = '\\033[95m'\n",
    "    OKBLUE = '\\033[94m'\n",
    "    OKCYAN = '\\033[96m'\n",
    "    OKGREEN = '\\033[92m'\n",
    "    WARNING = '\\033[93m'\n",
    "    FAIL = '\\033[91m'\n",
    "    ENDC = '\\033[0m'\n",
    "    BOLD = '\\033[1m'\n",
    "    UNDERLINE = '\\033[4m'"
   ]
  },
  {
   "cell_type": "code",
   "execution_count": 3,
   "id": "a4fc29e9-0ab4-47c0-b81b-67d6db9a1d46",
   "metadata": {},
   "outputs": [],
   "source": [
    "time_start_point = datetime(2022, 6, 23, 0, 0, 0, 0)\n",
    "\n",
    "mc_open_string = \"mc open\"\n",
    "mc_close_string = \"mc close\"\n",
    "gateway_powerup_string = \"R2000 init ok\"\n",
    "\n",
    "bedroom_target_string = \"485 induc,id:60,sta:1\"\n",
    "bathroom_target_string = \"485 induc,id:61,sta:1\"\n",
    "ir_string = \"485 induc,id:6a\""
   ]
  },
  {
   "cell_type": "code",
   "execution_count": 15,
   "id": "cd39f9e2-93c3-4180-9175-3f7d65611b4b",
   "metadata": {},
   "outputs": [],
   "source": [
    "def check_mc_close_points(file_name):\n",
    "    result_list = []\n",
    "    global time_start_point\n",
    "    global temp_result1_date_time_obj\n",
    "    global temp_result2_date_time_obj\n",
    "    global temp_result3_date_time_obj\n",
    "    \n",
    "    with open(file_name, 'r') as f:\n",
    "        txt_lines = f.readlines()\n",
    "            \n",
    "    for i in range(0, len(txt_lines)):\n",
    "        if txt_lines[i].find(mc_close_string) >= 0:\n",
    "            pos1 = txt_lines[i].find('[') + 1\n",
    "            pos2 = txt_lines[i].find(']')\n",
    "            date_time_str = txt_lines[i][pos1:pos2].strip()\n",
    "            date_time_obj = datetime.strptime(date_time_str, '%Y-%m-%d-%H-%M-%S')\n",
    "            was_after_data = time_start_point < date_time_obj and date_time_obj.hour > 18\n",
    "            if was_after_data:\n",
    "                result_list.append(i+1)\n",
    "    return result_list"
   ]
  },
  {
   "cell_type": "code",
   "execution_count": 16,
   "id": "d2c73dd1-56b1-411e-afcb-046823dadd92",
   "metadata": {},
   "outputs": [],
   "source": [
    "def check_mc_open_points(file_name):\n",
    "    result_list = []\n",
    "    global time_start_point\n",
    "    global temp_result1_date_time_obj\n",
    "    global temp_result2_date_time_obj\n",
    "    global temp_result3_date_time_obj\n",
    "    \n",
    "    with open(file_name, 'r') as f:\n",
    "        txt_lines = f.readlines()\n",
    "            \n",
    "    for i in range(0, len(txt_lines)):\n",
    "        if txt_lines[i].find(mc_open_string) >= 0:\n",
    "            pos1 = txt_lines[i].find('[') + 1\n",
    "            pos2 = txt_lines[i].find(']')\n",
    "            date_time_str = txt_lines[i][pos1:pos2].strip()\n",
    "            date_time_obj = datetime.strptime(date_time_str, '%Y-%m-%d-%H-%M-%S')\n",
    "            was_after_data = time_start_point < date_time_obj\n",
    "            if was_after_data:\n",
    "                result_list.append(i+1)\n",
    "    return result_list"
   ]
  },
  {
   "cell_type": "code",
   "execution_count": 17,
   "id": "0fa0caee-bf88-425b-ac12-5d177d65e181",
   "metadata": {},
   "outputs": [],
   "source": [
    "def check_gateway_init_points(file_name):\n",
    "    result_list = []\n",
    "    global time_start_point\n",
    "    global temp_result1_date_time_obj\n",
    "    global temp_result2_date_time_obj\n",
    "    global temp_result3_date_time_obj\n",
    "    \n",
    "    with open(file_name, 'r') as f:\n",
    "        txt_lines = f.readlines()\n",
    "            \n",
    "    for i in range(0, len(txt_lines)):\n",
    "        if txt_lines[i].find(gateway_powerup_string) >= 0:\n",
    "            pos1 = txt_lines[i].find('[') + 1\n",
    "            pos2 = txt_lines[i].find(']')\n",
    "            date_time_str = txt_lines[i][pos1:pos2].strip()\n",
    "            date_time_obj = datetime.strptime(date_time_str, '%Y-%m-%d-%H-%M-%S')\n",
    "            was_after_data = time_start_point < date_time_obj\n",
    "            if was_after_data:\n",
    "                result_list.append(i+1)\n",
    "    return result_list"
   ]
  },
  {
   "cell_type": "code",
   "execution_count": 18,
   "id": "693b6ce5-08b1-410d-b552-51b723b64426",
   "metadata": {},
   "outputs": [],
   "source": [
    "close_list = check_mc_close_points('./data/201.txt')\n",
    "open_list = check_mc_open_points('./data/201.txt')\n",
    "gateway_init = check_gateway_init_points('./data/201.txt')"
   ]
  },
  {
   "cell_type": "code",
   "execution_count": 19,
   "id": "3c1ca82f-81b5-4f60-8791-f25740b0ea69",
   "metadata": {},
   "outputs": [
    {
     "name": "stdout",
     "output_type": "stream",
     "text": [
      "[]\n",
      "[3677, 3712, 3731, 3756, 3758, 3787, 3886, 3915, 3917, 3919, 3921, 4641]\n",
      "[]\n"
     ]
    }
   ],
   "source": [
    "print(close_list)\n",
    "print(open_list)\n",
    "print(gateway_init)"
   ]
  },
  {
   "cell_type": "markdown",
   "id": "6bf33622-a509-4246-a238-409ea5c67293",
   "metadata": {},
   "source": [
    "# 得到成对的close与open\n",
    "- 并去掉中间有网关重启动的对\n",
    "- 并去掉中间无间隔的对"
   ]
  },
  {
   "cell_type": "code",
   "execution_count": 20,
   "id": "a53c83f7-450b-49b5-9e8d-d48e15a91ea1",
   "metadata": {},
   "outputs": [],
   "source": [
    "close_open_pair = []\n",
    "for i in range(0, len(close_list)):\n",
    "    for j in range(0, len(open_list)):\n",
    "        if open_list[j] > close_list[i]:\n",
    "            close_open_pair.append((close_list[i], open_list[j]))\n",
    "            break;\n",
    "    \n",
    "for i in range(0, len(gateway_init)):\n",
    "    for up, down in close_open_pair:\n",
    "        if gateway_init[i] < down and gateway_init[i] > up:\n",
    "            #print(f'find {up}(mc_close)-{gateway_init[i]}(R2000 power up)-{down}(mc_open)')\n",
    "            if (up, down) in close_open_pair:\n",
    "                close_open_pair.remove((up, down))\n",
    "        if down == up + 1:\n",
    "            #print(f'find {up}(mc_close)-{down}(mc_open)')\n",
    "            if (up, down) in close_open_pair:\n",
    "                close_open_pair.remove((up, down))\n",
    "        "
   ]
  },
  {
   "cell_type": "code",
   "execution_count": 21,
   "id": "4b2e7560-166e-4b98-938a-5ad27c14e712",
   "metadata": {},
   "outputs": [
    {
     "name": "stdout",
     "output_type": "stream",
     "text": [
      "[]\n"
     ]
    }
   ],
   "source": [
    "print(close_open_pair)"
   ]
  },
  {
   "cell_type": "code",
   "execution_count": 22,
   "id": "8dadfcd0-ecd0-4c1c-9287-7dc2fa6fccf9",
   "metadata": {},
   "outputs": [],
   "source": [
    "def p60_61_1(file_name, pair):\n",
    "    bed_error = 0\n",
    "    bath_error = 0\n",
    "    error_counter = 0\n",
    "    with open(file_name, 'r') as f:\n",
    "        txt_lines = f.readlines()\n",
    "        \n",
    "    for up, down in pair:\n",
    "        for i in range(up, down - 1):\n",
    "            have_ir = txt_lines[i].find(ir_string) >= 0\n",
    "            if not have_ir:\n",
    "                if txt_lines[i].find(bedroom_target_string) >= 0:\n",
    "                    #print(f'{bcolors.OKBLUE}bed ERROR: {i+1}-{txt_lines[i]}{bcolors.ENDC}')\n",
    "                    bed_error = 1\n",
    "                if txt_lines[i].find(bathroom_target_string) >= 0:\n",
    "                    #print(f'{bcolors.WARNING}bath ERROR: {i+1}-{txt_lines[i]}{bcolors.ENDC}')\n",
    "                    bath_error = 1\n",
    "        if bed_error and bath_error:\n",
    "            print(f'{up}-{down}')\n",
    "            error_counter = error_counter + 1\n",
    "        bed_error = 0\n",
    "        bath_error = 0\n",
    "    if error_counter > 0:\n",
    "        print(file_name)\n",
    "        print('-----------')"
   ]
  },
  {
   "cell_type": "code",
   "execution_count": 23,
   "id": "1a76eafc-1421-4048-a990-8e504b9c7d8a",
   "metadata": {},
   "outputs": [],
   "source": [
    "p60_61_1('./data/201.txt', close_open_pair)"
   ]
  },
  {
   "cell_type": "code",
   "execution_count": 24,
   "id": "9b746f1f-036c-44fa-a54e-177322af896b",
   "metadata": {},
   "outputs": [],
   "source": [
    "def scan_files(url):\n",
    "    file  = os.listdir(url)\n",
    "    close_list = []\n",
    "    open_list = []\n",
    "    gateway_init = []\n",
    "    close_open_pair = []\n",
    "    \n",
    "    for f in file:\n",
    "        real_url = path.join(url, f)\n",
    "        if path.isfile(real_url):\n",
    "            #print(path.abspath(real_url))\n",
    "            close_list = check_mc_close_points(path.abspath(real_url))\n",
    "            open_list = check_mc_open_points(path.abspath(real_url))\n",
    "            gateway_init = check_gateway_init_points(path.abspath(real_url))\n",
    "\n",
    "            for i in range(0, len(close_list)):\n",
    "                for j in range(0, len(open_list)):\n",
    "                    if open_list[j] > close_list[i]:\n",
    "                        close_open_pair.append((close_list[i], open_list[j]))\n",
    "                        break;\n",
    "\n",
    "            for i in range(0, len(gateway_init)):\n",
    "                for up, down in close_open_pair:\n",
    "                    if gateway_init[i] < down and gateway_init[i] > up:\n",
    "                        #print(f'find {up}(mc_close)-{gateway_init[i]}(R2000 power up)-{down}(mc_open)')\n",
    "                        if (up, down) in close_open_pair:\n",
    "                            close_open_pair.remove((up, down))\n",
    "                    if down == up + 1:\n",
    "                        #print(f'find {up}(mc_close)-{down}(mc_open)')\n",
    "                        if (up, down) in close_open_pair:\n",
    "                            close_open_pair.remove((up, down))\n",
    "            #print(close_open_pair)\n",
    "            p60_61_1(path.abspath(real_url), close_open_pair)\n",
    "                \n",
    "            close_open_pair = []\n",
    "            # 如果是文件，则以绝度路径的方式输出\n",
    "        elif path.isdir(real_url):\n",
    "            #如果是目录，则是递归自定义函数 scaner_file (url)进行多次\n",
    "            scaner_file(real_url)\n",
    "        else: \n",
    "            print(\"其他情况\")\n",
    "            pass"
   ]
  },
  {
   "cell_type": "code",
   "execution_count": 25,
   "id": "7e616125-83ac-4709-aeec-e91c2195c525",
   "metadata": {},
   "outputs": [
    {
     "name": "stdout",
     "output_type": "stream",
     "text": [
      "7663-8050\n",
      "c:\\Users\\phosense\\Downloads\\粤万润房间数据_cv整理\\脚本处理数据\\data\\208.txt\n",
      "-----------\n",
      "72-85\n",
      "c:\\Users\\phosense\\Downloads\\粤万润房间数据_cv整理\\脚本处理数据\\data\\212.txt\n",
      "-----------\n",
      "8845-8893\n",
      "c:\\Users\\phosense\\Downloads\\粤万润房间数据_cv整理\\脚本处理数据\\data\\231.txt\n",
      "-----------\n",
      "1532-1577\n",
      "c:\\Users\\phosense\\Downloads\\粤万润房间数据_cv整理\\脚本处理数据\\data\\335.txt\n",
      "-----------\n",
      "2734-5591\n",
      "c:\\Users\\phosense\\Downloads\\粤万润房间数据_cv整理\\脚本处理数据\\data\\511.txt\n",
      "-----------\n"
     ]
    }
   ],
   "source": [
    "scan_files(\"./data\")"
   ]
  },
  {
   "cell_type": "code",
   "execution_count": null,
   "id": "ff75a58c-73c1-4e9d-ad9f-355a3b77b167",
   "metadata": {},
   "outputs": [],
   "source": []
  }
 ],
 "metadata": {
  "kernelspec": {
   "display_name": "Python 3 (ipykernel)",
   "language": "python",
   "name": "python3"
  },
  "language_info": {
   "codemirror_mode": {
    "name": "ipython",
    "version": 3
   },
   "file_extension": ".py",
   "mimetype": "text/x-python",
   "name": "python",
   "nbconvert_exporter": "python",
   "pygments_lexer": "ipython3",
   "version": "3.9.1"
  }
 },
 "nbformat": 4,
 "nbformat_minor": 5
}
